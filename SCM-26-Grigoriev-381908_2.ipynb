{
 "cells": [
  {
   "cell_type": "markdown",
   "metadata": {},
   "source": [
    "## 26. Нелинейный метод наименьших квадратов. Светимость звезды\n"
   ]
  },
  {
   "cell_type": "markdown",
   "metadata": {},
   "source": [
    "[Каханер–Моулер–Нэш] Сверхновой звезде типа I соответствует специальная модель светимости. Спустя несколько дней после максимума светимости эту модель можно описать так:\n",
    "𝐿(𝑡)=𝐶1𝑒−𝑡/𝛼1+𝐶2𝑒−𝑡/𝛼2,\n",
    " \n",
    "где  𝑡  – время (в днях) с момента максимальной светимости, а  𝐿(𝑡)  – светимость, относительно максимальной светимости. В таблице ниже приведены данные по относительной светимости для свехновой I939A6, полученные в 1936 г. Пик светимости приходится на день  0 , но наблюдения до дня  7.0 , опущены, так какуказанная модель не описывает светимости перед и непосредственно после максимума.\n",
    "\n",
    "    t      L(t)    \n",
    "--------------------\n",
    "   7.0    0.6310     \n",
    "   7.0    0.8318     \n",
    "  14.8    0.2754     \n",
    "  16.0    0.1445     \n",
    "  16.9    0.2089     \n",
    "  17.0    0.1585     \n",
    "  18.8    0.1585     \n",
    "  19.0    0.1318     \n",
    "  20.9    0.1585     \n",
    "  15.8    0.1096     \n",
    "  16.8    0.1445     \n",
    "  28.0    0.09120    \n",
    "  53.0    0.06310    \n",
    "  54.0    0.06918    \n",
    "  57.0    0.05754    \n",
    "  85.0    0.03631    \n",
    " 109.0    0.02291    \n",
    " 110.0    0.02291    \n",
    " 141.0    0.01738    \n",
    " 142.0    0.01585    \n",
    " 168.0    0.009120   \n",
    "Нанести данные на график. Нелинейным методом наименьших квадратов найдите неизвестные параметры модели и постройте графики. Используйте различные начальные значения для  𝛼1 ,  𝛼2 ,  𝐶1 ,  𝐶2 . Чему равна результирующая суммарная ошибка? Рассмотрите также аппроксимацию одной экспонентой - решите эту задачу сведя ее к линейной задаче наименьших квадратов. Сравните все результаты. Насколько чувствительны результирующие значения к начальным значениям?"
   ]
  },
  {
   "cell_type": "code",
   "execution_count": 144,
   "metadata": {},
   "outputs": [],
   "source": [
    "import matplotlib.pyplot as plt\n",
    "import math\n",
    "import numpy as np\n",
    "from scipy import linalg\n",
    "from scipy import optimize"
   ]
  },
  {
   "cell_type": "markdown",
   "metadata": {},
   "source": [
    "### Нанесение данных на график:"
   ]
  },
  {
   "cell_type": "code",
   "execution_count": 145,
   "metadata": {},
   "outputs": [
    {
     "data": {
      "text/plain": [
       "[<matplotlib.lines.Line2D at 0x232cbdf3f48>]"
      ]
     },
     "execution_count": 145,
     "metadata": {},
     "output_type": "execute_result"
    },
    {
     "data": {
      "image/png": "[encoded data removed]",
      "text/plain": [
       "<Figure size 432x288 with 1 Axes>"
      ]
     },
     "metadata": {
      "needs_background": "light"
     },
     "output_type": "display_data"
    }
   ],
   "source": [
    "t = np.array([7.0, 7.0, 14.8, 16.0, 16.9, 17.0, 18.8, 19.0, 20.9, 15.8, 16.8, 28.0, 53.0, 54.0, 57.0, 85.0, 109.0,110.0,141.0, 142.0,168.0])\n",
    "L = np.array([0.6310, 0.8318, 0.2754, 0.1445, 0.2089,0.1585,0.1585,0.1318,0.1585,0.1096,0.1445,0.09120,0.06310,0.06918,0.05754,0.03631,0.02291,0.02291 ,0.01738,0.01585,0.009120])\n",
    "plt.grid()\n",
    "plt.plot(t, L, '.', color = 'tab:orange')"
   ]
  },
  {
   "cell_type": "markdown",
   "metadata": {},
   "source": [
    "### Поиск неизвестных параметров нелинейным методом наименьших квадратов и построение графика\n"
   ]
  },
  {
   "cell_type": "code",
   "execution_count": 146,
   "metadata": {},
   "outputs": [
    {
     "data": {
      "text/plain": [
       "(0.15975280972450118, 3.5662624699600376, 58.51405929626225, 3.890484999234576)"
      ]
     },
     "execution_count": 146,
     "metadata": {},
     "output_type": "execute_result"
    }
   ],
   "source": [
    "def L_t(t, C1, C2, a1, a2):\n",
    "    return C1*math.e**(-t/a1) + C2*math.e**(-t/a2)\n",
    "res, _ = optimize.curve_fit(L_t,t,L)\n",
    "C1, C2, a1,a2 = res\n",
    "C1, C2, a1,a2"
   ]
  },
  {
   "cell_type": "code",
   "execution_count": 147,
   "metadata": {},
   "outputs": [
    {
     "data": {
      "text/plain": [
       "[<matplotlib.lines.Line2D at 0x232cbd50088>]"
      ]
     },
     "execution_count": 147,
     "metadata": {},
     "output_type": "execute_result"
    },
    {
     "data": {
      "image/png": "[encoded data removed]",
      "text/plain": [
       "<Figure size 432x288 with 1 Axes>"
      ]
     },
     "metadata": {
      "needs_background": "light"
     },
     "output_type": "display_data"
    }
   ],
   "source": [
    "X_arr = np.linspace(np.min(t), np.max(t), 10000)\n",
    "Y_arr = L_t(X_arr, C1, C2, a1, a2)\n",
    "plt.grid()\n",
    "plt.plot(X_arr, Y_arr)\n",
    "plt.plot(t, L, \".\", color = 'tab:orange')"
   ]
  },
  {
   "cell_type": "markdown",
   "metadata": {},
   "source": [
    "### Использование других начальных значений для С1, С2, а1, а2. \n"
   ]
  },
  {
   "cell_type": "code",
   "execution_count": 235,
   "metadata": {},
   "outputs": [],
   "source": [
    "alternate_size = 30\n",
    "alternate_t = np.array([np.random.randint(1, 200) for i in range(alternate_size)])\n",
    "alternate_t.sort()\n",
    "alternate_L = np.array([np.random.rand() for i in range(alternate_size)])\n",
    "alternate_L.sort()\n",
    "alternate_L = alternate_L[::-1]"
   ]
  },
  {
   "cell_type": "code",
   "execution_count": 236,
   "metadata": {},
   "outputs": [
    {
     "data": {
      "text/plain": [
       "(0.6249040101604905, 0.6286884398633168, 131.7297937762993, 131.73229798496462)"
      ]
     },
     "execution_count": 236,
     "metadata": {},
     "output_type": "execute_result"
    }
   ],
   "source": [
    "def alternate_L_t(alternate_t, C1, C2, a1, a2):\n",
    "    return C1*math.e**(-alternate_t/a1) + C2*math.e**(-alternate_t/a2)\n",
    "res, _ = optimize.curve_fit(alternate_L_t,alternate_t,alternate_L)\n",
    "C1, C2, a1,a2 = res\n",
    "C1, C2, a1,a2"
   ]
  },
  {
   "cell_type": "code",
   "execution_count": 237,
   "metadata": {},
   "outputs": [
    {
     "data": {
      "text/plain": [
       "[<matplotlib.lines.Line2D at 0x232ce73d548>]"
      ]
     },
     "execution_count": 237,
     "metadata": {},
     "output_type": "execute_result"
    },
    {
     "data": {
      "image/png": "[encoded data removed]",
      "text/plain": [
       "<Figure size 432x288 with 1 Axes>"
      ]
     },
     "metadata": {
      "needs_background": "light"
     },
     "output_type": "display_data"
    }
   ],
   "source": [
    "alternate_X_arr = np.linspace(np.min(alternate_t), np.max(alternate_t), 10000)\n",
    "alternate_Y_arr = alternate_L_t(alternate_X_arr, C1, C2, a1, a2)\n",
    "plt.grid()\n",
    "plt.plot(alternate_X_arr, alternate_Y_arr)\n",
    "plt.plot(alternate_t, alternate_L, \".\", color = 'tab:orange')"
   ]
  },
  {
   "cell_type": "markdown",
   "metadata": {},
   "source": [
    "### Апроксимация одной экспонентой\n"
   ]
  },
  {
   "cell_type": "code",
   "execution_count": 238,
   "metadata": {},
   "outputs": [
    {
     "data": {
      "text/plain": [
       "(8.078306231310245, 5.74676198224591)"
      ]
     },
     "execution_count": 238,
     "metadata": {},
     "output_type": "execute_result"
    }
   ],
   "source": [
    "def L_t_e(t,a1, a2):\n",
    "    return math.e**(-t/a1) + math.e**(-t/a2)\n",
    "res, _ = optimize.curve_fit(L_t_e,t,L)\n",
    "a1,a2 = res\n",
    "a1,a2"
   ]
  },
  {
   "cell_type": "code",
   "execution_count": 239,
   "metadata": {},
   "outputs": [
    {
     "data": {
      "text/plain": [
       "[<matplotlib.lines.Line2D at 0x232ce6fa148>]"
      ]
     },
     "execution_count": 239,
     "metadata": {},
     "output_type": "execute_result"
    },
    {
     "data": {
      "image/png": "[encoded data removed]",
      "text/plain": [
       "<Figure size 432x288 with 1 Axes>"
      ]
     },
     "metadata": {
      "needs_background": "light"
     },
     "output_type": "display_data"
    }
   ],
   "source": [
    "alternate_X_arr = np.linspace(np.min(t), np.max(t), 10000)\n",
    "alternate_Y_arr = L_t_e(alternate_X_arr, a1, a2)\n",
    "plt.grid()\n",
    "plt.plot(alternate_X_arr, alternate_Y_arr)\n",
    "plt.plot(t, L, \".\", color = 'tab:orange')"
   ]
  },
  {
   "cell_type": "markdown",
   "metadata": {},
   "source": [
    "### Апроксимация одной экспонентой для альтернативных значений"
   ]
  },
  {
   "cell_type": "code",
   "execution_count": 240,
   "metadata": {},
   "outputs": [
    {
     "data": {
      "text/plain": [
       "(175.5460142340296, 0.43483421324955635)"
      ]
     },
     "execution_count": 240,
     "metadata": {},
     "output_type": "execute_result"
    }
   ],
   "source": [
    "def alternate_L_t_e(alternate_t, a1, a2):\n",
    "    return math.e**(-alternate_t/a1) + math.e**(-alternate_t/a2)\n",
    "res, _ = optimize.curve_fit(alternate_L_t_e,alternate_t,alternate_L)\n",
    "a1,a2 = res\n",
    "a1,a2"
   ]
  },
  {
   "cell_type": "code",
   "execution_count": 241,
   "metadata": {},
   "outputs": [
    {
     "data": {
      "text/plain": [
       "[<matplotlib.lines.Line2D at 0x232ce816e88>]"
      ]
     },
     "execution_count": 241,
     "metadata": {},
     "output_type": "execute_result"
    },
    {
     "data": {
      "image/png": "[encoded data removed]",
      "text/plain": [
       "<Figure size 432x288 with 1 Axes>"
      ]
     },
     "metadata": {
      "needs_background": "light"
     },
     "output_type": "display_data"
    }
   ],
   "source": [
    "alternate_X_arr = np.linspace(np.min(alternate_t), np.max(alternate_t), 10000)\n",
    "alternate_Y_arr = alternate_L_t_e(alternate_X_arr, a1, a2)\n",
    "plt.grid()\n",
    "plt.plot(alternate_X_arr, alternate_Y_arr)\n",
    "plt.plot(alternate_t, alternate_L, \".\", color = 'tab:orange')"
   ]
  },
  {
   "cell_type": "markdown",
   "metadata": {},
   "source": [
    "### Сумарная результирующая ошибка"
   ]
  },
  {
   "cell_type": "code",
   "execution_count": 242,
   "metadata": {},
   "outputs": [
    {
     "data": {
      "text/plain": [
       "0.4788332578581094"
      ]
     },
     "execution_count": 242,
     "metadata": {},
     "output_type": "execute_result"
    }
   ],
   "source": [
    "np.sqrt(np.sum(L_t(t, C1, C2, a1, a2)/len(t))**2) #Начальные значения"
   ]
  },
  {
   "cell_type": "code",
   "execution_count": 243,
   "metadata": {},
   "outputs": [
    {
     "data": {
      "text/plain": [
       "0.35795969479964057"
      ]
     },
     "execution_count": 243,
     "metadata": {},
     "output_type": "execute_result"
    }
   ],
   "source": [
    "np.sqrt(np.sum(alternate_L_t(alternate_t, C1, C2, a1, a2)/len(alternate_t))**2) #Альтернативные значения"
   ]
  },
  {
   "cell_type": "code",
   "execution_count": 244,
   "metadata": {},
   "outputs": [
    {
     "data": {
      "text/plain": [
       "0.766250896195022"
      ]
     },
     "execution_count": 244,
     "metadata": {},
     "output_type": "execute_result"
    }
   ],
   "source": [
    "np.sqrt(np.sum(L_t_e(t, a1, a2)/len(t))**2) #Начальные значения по экспоненте"
   ]
  },
  {
   "cell_type": "code",
   "execution_count": 245,
   "metadata": {},
   "outputs": [
    {
     "data": {
      "text/plain": [
       "0.572821457810408"
      ]
     },
     "execution_count": 245,
     "metadata": {},
     "output_type": "execute_result"
    }
   ],
   "source": [
    "np.sqrt(np.sum(alternate_L_t_e(alternate_t, a1, a2)/len(alternate_t))**2) #Альтернативные значения по экспоненте"
   ]
  },
  {
   "cell_type": "markdown",
   "metadata": {},
   "source": [
    "### Насколько чувствительны результирующие значения к начальным значениям?"
   ]
  },
  {
   "cell_type": "code",
   "execution_count": null,
   "metadata": {},
   "outputs": [],
   "source": [
    "# При увеличении количества входных значений увеличивается точность"
   ]
  }
 ],
 "metadata": {
  "kernelspec": {
   "display_name": "Python 3",
   "language": "python",
   "name": "python3"
  },
  "language_info": {
   "codemirror_mode": {
    "name": "ipython",
    "version": 3
   },
   "file_extension": ".py",
   "mimetype": "text/x-python",
   "name": "python",
   "nbconvert_exporter": "python",
   "pygments_lexer": "ipython3",
   "version": "3.7.6"
  }
 },
 "nbformat": 4,
 "nbformat_minor": 4
}
